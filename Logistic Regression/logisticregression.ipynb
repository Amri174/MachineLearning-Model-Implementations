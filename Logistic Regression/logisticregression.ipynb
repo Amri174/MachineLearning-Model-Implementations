{
  "cells": [
    {
      "cell_type": "code",
      "execution_count": null,
      "id": "db1bb404",
      "metadata": {
        "id": "db1bb404",
        "outputId": "6e8d4eca-d5b2-4cf7-e238-b8a81e6cf277"
      },
      "outputs": [
        {
          "data": {
            "text/html": [
              "<div>\n",
              "<style scoped>\n",
              "    .dataframe tbody tr th:only-of-type {\n",
              "        vertical-align: middle;\n",
              "    }\n",
              "\n",
              "    .dataframe tbody tr th {\n",
              "        vertical-align: top;\n",
              "    }\n",
              "\n",
              "    .dataframe thead th {\n",
              "        text-align: right;\n",
              "    }\n",
              "</style>\n",
              "<table border=\"1\" class=\"dataframe\">\n",
              "  <thead>\n",
              "    <tr style=\"text-align: right;\">\n",
              "      <th></th>\n",
              "      <th>Name</th>\n",
              "      <th>GP</th>\n",
              "      <th>MIN</th>\n",
              "      <th>PTS</th>\n",
              "      <th>FGM</th>\n",
              "      <th>FGA</th>\n",
              "      <th>FG%</th>\n",
              "      <th>3P Made</th>\n",
              "      <th>3PA</th>\n",
              "      <th>3P%</th>\n",
              "      <th>...</th>\n",
              "      <th>FTA</th>\n",
              "      <th>FT%</th>\n",
              "      <th>OREB</th>\n",
              "      <th>DREB</th>\n",
              "      <th>REB</th>\n",
              "      <th>AST</th>\n",
              "      <th>STL</th>\n",
              "      <th>BLK</th>\n",
              "      <th>TOV</th>\n",
              "      <th>TARGET_5Yrs</th>\n",
              "    </tr>\n",
              "  </thead>\n",
              "  <tbody>\n",
              "    <tr>\n",
              "      <th>0</th>\n",
              "      <td>Brandon Ingram</td>\n",
              "      <td>36</td>\n",
              "      <td>27.4</td>\n",
              "      <td>7.4</td>\n",
              "      <td>2.6</td>\n",
              "      <td>7.6</td>\n",
              "      <td>34.7</td>\n",
              "      <td>0.5</td>\n",
              "      <td>2.1</td>\n",
              "      <td>25.0</td>\n",
              "      <td>...</td>\n",
              "      <td>2.3</td>\n",
              "      <td>69.9</td>\n",
              "      <td>0.7</td>\n",
              "      <td>3.4</td>\n",
              "      <td>4.1</td>\n",
              "      <td>1.9</td>\n",
              "      <td>0.4</td>\n",
              "      <td>0.4</td>\n",
              "      <td>1.3</td>\n",
              "      <td>0.0</td>\n",
              "    </tr>\n",
              "    <tr>\n",
              "      <th>1</th>\n",
              "      <td>Andrew Harrison</td>\n",
              "      <td>35</td>\n",
              "      <td>26.9</td>\n",
              "      <td>7.2</td>\n",
              "      <td>2.0</td>\n",
              "      <td>6.7</td>\n",
              "      <td>29.6</td>\n",
              "      <td>0.7</td>\n",
              "      <td>2.8</td>\n",
              "      <td>23.5</td>\n",
              "      <td>...</td>\n",
              "      <td>3.4</td>\n",
              "      <td>76.5</td>\n",
              "      <td>0.5</td>\n",
              "      <td>2.0</td>\n",
              "      <td>2.4</td>\n",
              "      <td>3.7</td>\n",
              "      <td>1.1</td>\n",
              "      <td>0.5</td>\n",
              "      <td>1.6</td>\n",
              "      <td>0.0</td>\n",
              "    </tr>\n",
              "    <tr>\n",
              "      <th>2</th>\n",
              "      <td>JaKarr Sampson</td>\n",
              "      <td>74</td>\n",
              "      <td>15.3</td>\n",
              "      <td>5.2</td>\n",
              "      <td>2.0</td>\n",
              "      <td>4.7</td>\n",
              "      <td>42.2</td>\n",
              "      <td>0.4</td>\n",
              "      <td>1.7</td>\n",
              "      <td>24.4</td>\n",
              "      <td>...</td>\n",
              "      <td>1.3</td>\n",
              "      <td>67.0</td>\n",
              "      <td>0.5</td>\n",
              "      <td>1.7</td>\n",
              "      <td>2.2</td>\n",
              "      <td>1.0</td>\n",
              "      <td>0.5</td>\n",
              "      <td>0.3</td>\n",
              "      <td>1.0</td>\n",
              "      <td>0.0</td>\n",
              "    </tr>\n",
              "    <tr>\n",
              "      <th>3</th>\n",
              "      <td>Malik Sealy</td>\n",
              "      <td>58</td>\n",
              "      <td>11.6</td>\n",
              "      <td>5.7</td>\n",
              "      <td>2.3</td>\n",
              "      <td>5.5</td>\n",
              "      <td>42.6</td>\n",
              "      <td>0.1</td>\n",
              "      <td>0.5</td>\n",
              "      <td>22.6</td>\n",
              "      <td>...</td>\n",
              "      <td>1.3</td>\n",
              "      <td>68.9</td>\n",
              "      <td>1.0</td>\n",
              "      <td>0.9</td>\n",
              "      <td>1.9</td>\n",
              "      <td>0.8</td>\n",
              "      <td>0.6</td>\n",
              "      <td>0.1</td>\n",
              "      <td>1.0</td>\n",
              "      <td>1.0</td>\n",
              "    </tr>\n",
              "    <tr>\n",
              "      <th>4</th>\n",
              "      <td>Matt Geiger</td>\n",
              "      <td>48</td>\n",
              "      <td>11.5</td>\n",
              "      <td>4.5</td>\n",
              "      <td>1.6</td>\n",
              "      <td>3.0</td>\n",
              "      <td>52.4</td>\n",
              "      <td>0.0</td>\n",
              "      <td>0.1</td>\n",
              "      <td>0.0</td>\n",
              "      <td>...</td>\n",
              "      <td>1.9</td>\n",
              "      <td>67.4</td>\n",
              "      <td>1.0</td>\n",
              "      <td>1.5</td>\n",
              "      <td>2.5</td>\n",
              "      <td>0.3</td>\n",
              "      <td>0.3</td>\n",
              "      <td>0.4</td>\n",
              "      <td>0.8</td>\n",
              "      <td>1.0</td>\n",
              "    </tr>\n",
              "  </tbody>\n",
              "</table>\n",
              "<p>5 rows × 21 columns</p>\n",
              "</div>"
            ],
            "text/plain": [
              "              Name  GP   MIN  PTS  FGM  FGA   FG%  3P Made  3PA   3P%  ...  \\\n",
              "0   Brandon Ingram  36  27.4  7.4  2.6  7.6  34.7      0.5  2.1  25.0  ...   \n",
              "1  Andrew Harrison  35  26.9  7.2  2.0  6.7  29.6      0.7  2.8  23.5  ...   \n",
              "2   JaKarr Sampson  74  15.3  5.2  2.0  4.7  42.2      0.4  1.7  24.4  ...   \n",
              "3      Malik Sealy  58  11.6  5.7  2.3  5.5  42.6      0.1  0.5  22.6  ...   \n",
              "4      Matt Geiger  48  11.5  4.5  1.6  3.0  52.4      0.0  0.1   0.0  ...   \n",
              "\n",
              "   FTA   FT%  OREB  DREB  REB  AST  STL  BLK  TOV  TARGET_5Yrs  \n",
              "0  2.3  69.9   0.7   3.4  4.1  1.9  0.4  0.4  1.3          0.0  \n",
              "1  3.4  76.5   0.5   2.0  2.4  3.7  1.1  0.5  1.6          0.0  \n",
              "2  1.3  67.0   0.5   1.7  2.2  1.0  0.5  0.3  1.0          0.0  \n",
              "3  1.3  68.9   1.0   0.9  1.9  0.8  0.6  0.1  1.0          1.0  \n",
              "4  1.9  67.4   1.0   1.5  2.5  0.3  0.3  0.4  0.8          1.0  \n",
              "\n",
              "[5 rows x 21 columns]"
            ]
          },
          "execution_count": 3,
          "metadata": {},
          "output_type": "execute_result"
        }
      ],
      "source": [
        "#whether an NBA rookie player will last more than 5 years in the league (yes or no)\n",
        "import pandas as pd\n",
        "data=pd.read_csv(\"nba_logreg.csv\")\n",
        "data.head()"
      ]
    },
    {
      "cell_type": "code",
      "execution_count": null,
      "id": "c5e6044f",
      "metadata": {
        "id": "c5e6044f"
      },
      "outputs": [],
      "source": [
        "#name:player name\n",
        "#GP:games played\n",
        "#min:minutes per game\n",
        "#pts:points per game\n",
        "#FGM:field goals made per game\n",
        "#FGA:field goals attempted per game\n",
        "#FG%:field goal perecntage\n",
        "#3P made:three pointers made per game\n",
        "#3PA:three pointers attempted made per game\n",
        "#3p three pointers % per game\n",
        "#FTM:free throws made\n",
        "#FTA:free throws attempted\n",
        "#FTP:free throw percentage\n",
        "#OREB:offensive rebounds\n",
        "#DREB:defensive rebounds per game\n",
        "#REB:total rebounds per game\n",
        "#AST:assists per game\n",
        "#STL:steals per game\n",
        "#blk:blocks per game\n",
        "#TOV:turn over per game\n",
        "#TARGET_5yrs: indicating whether the player will remain\n",
        "#in league for more than 5 yrs(1) else 0\n"
      ]
    },
    {
      "cell_type": "code",
      "execution_count": null,
      "id": "0c9f24d7",
      "metadata": {
        "scrolled": true,
        "id": "0c9f24d7",
        "outputId": "161eec87-e414-48a1-a488-2ccffcc14efa"
      },
      "outputs": [
        {
          "data": {
            "text/html": [
              "<div>\n",
              "<style scoped>\n",
              "    .dataframe tbody tr th:only-of-type {\n",
              "        vertical-align: middle;\n",
              "    }\n",
              "\n",
              "    .dataframe tbody tr th {\n",
              "        vertical-align: top;\n",
              "    }\n",
              "\n",
              "    .dataframe thead th {\n",
              "        text-align: right;\n",
              "    }\n",
              "</style>\n",
              "<table border=\"1\" class=\"dataframe\">\n",
              "  <thead>\n",
              "    <tr style=\"text-align: right;\">\n",
              "      <th></th>\n",
              "      <th>GP</th>\n",
              "      <th>MIN</th>\n",
              "      <th>PTS</th>\n",
              "      <th>FGM</th>\n",
              "      <th>FGA</th>\n",
              "      <th>FG%</th>\n",
              "      <th>3P Made</th>\n",
              "      <th>3PA</th>\n",
              "      <th>3P%</th>\n",
              "      <th>FTM</th>\n",
              "      <th>FTA</th>\n",
              "      <th>FT%</th>\n",
              "      <th>OREB</th>\n",
              "      <th>DREB</th>\n",
              "      <th>REB</th>\n",
              "      <th>AST</th>\n",
              "      <th>STL</th>\n",
              "      <th>BLK</th>\n",
              "      <th>TOV</th>\n",
              "      <th>TARGET_5Yrs</th>\n",
              "    </tr>\n",
              "  </thead>\n",
              "  <tbody>\n",
              "    <tr>\n",
              "      <th>count</th>\n",
              "      <td>1340.000000</td>\n",
              "      <td>1340.000000</td>\n",
              "      <td>1340.000000</td>\n",
              "      <td>1340.000000</td>\n",
              "      <td>1340.000000</td>\n",
              "      <td>1340.000000</td>\n",
              "      <td>1340.000000</td>\n",
              "      <td>1340.000000</td>\n",
              "      <td>1329.000000</td>\n",
              "      <td>1340.000000</td>\n",
              "      <td>1340.000000</td>\n",
              "      <td>1340.000000</td>\n",
              "      <td>1340.000000</td>\n",
              "      <td>1340.000000</td>\n",
              "      <td>1340.000000</td>\n",
              "      <td>1340.000000</td>\n",
              "      <td>1340.000000</td>\n",
              "      <td>1340.000000</td>\n",
              "      <td>1340.000000</td>\n",
              "      <td>1340.000000</td>\n",
              "    </tr>\n",
              "    <tr>\n",
              "      <th>mean</th>\n",
              "      <td>60.414179</td>\n",
              "      <td>17.624627</td>\n",
              "      <td>6.801493</td>\n",
              "      <td>2.629104</td>\n",
              "      <td>5.885299</td>\n",
              "      <td>44.169403</td>\n",
              "      <td>0.247612</td>\n",
              "      <td>0.779179</td>\n",
              "      <td>19.308126</td>\n",
              "      <td>1.297687</td>\n",
              "      <td>1.821940</td>\n",
              "      <td>70.300299</td>\n",
              "      <td>1.009403</td>\n",
              "      <td>2.025746</td>\n",
              "      <td>3.034478</td>\n",
              "      <td>1.550522</td>\n",
              "      <td>0.618507</td>\n",
              "      <td>0.368582</td>\n",
              "      <td>1.193582</td>\n",
              "      <td>0.620149</td>\n",
              "    </tr>\n",
              "    <tr>\n",
              "      <th>std</th>\n",
              "      <td>17.433992</td>\n",
              "      <td>8.307964</td>\n",
              "      <td>4.357545</td>\n",
              "      <td>1.683555</td>\n",
              "      <td>3.593488</td>\n",
              "      <td>6.137679</td>\n",
              "      <td>0.383688</td>\n",
              "      <td>1.061847</td>\n",
              "      <td>16.022916</td>\n",
              "      <td>0.987246</td>\n",
              "      <td>1.322984</td>\n",
              "      <td>10.578479</td>\n",
              "      <td>0.777119</td>\n",
              "      <td>1.360008</td>\n",
              "      <td>2.057774</td>\n",
              "      <td>1.471169</td>\n",
              "      <td>0.409759</td>\n",
              "      <td>0.429049</td>\n",
              "      <td>0.722541</td>\n",
              "      <td>0.485531</td>\n",
              "    </tr>\n",
              "    <tr>\n",
              "      <th>min</th>\n",
              "      <td>11.000000</td>\n",
              "      <td>3.100000</td>\n",
              "      <td>0.700000</td>\n",
              "      <td>0.300000</td>\n",
              "      <td>0.800000</td>\n",
              "      <td>23.800000</td>\n",
              "      <td>0.000000</td>\n",
              "      <td>0.000000</td>\n",
              "      <td>0.000000</td>\n",
              "      <td>0.000000</td>\n",
              "      <td>0.000000</td>\n",
              "      <td>0.000000</td>\n",
              "      <td>0.000000</td>\n",
              "      <td>0.200000</td>\n",
              "      <td>0.300000</td>\n",
              "      <td>0.000000</td>\n",
              "      <td>0.000000</td>\n",
              "      <td>0.000000</td>\n",
              "      <td>0.100000</td>\n",
              "      <td>0.000000</td>\n",
              "    </tr>\n",
              "    <tr>\n",
              "      <th>25%</th>\n",
              "      <td>47.000000</td>\n",
              "      <td>10.875000</td>\n",
              "      <td>3.700000</td>\n",
              "      <td>1.400000</td>\n",
              "      <td>3.300000</td>\n",
              "      <td>40.200000</td>\n",
              "      <td>0.000000</td>\n",
              "      <td>0.000000</td>\n",
              "      <td>0.000000</td>\n",
              "      <td>0.600000</td>\n",
              "      <td>0.900000</td>\n",
              "      <td>64.700000</td>\n",
              "      <td>0.400000</td>\n",
              "      <td>1.000000</td>\n",
              "      <td>1.500000</td>\n",
              "      <td>0.600000</td>\n",
              "      <td>0.300000</td>\n",
              "      <td>0.100000</td>\n",
              "      <td>0.700000</td>\n",
              "      <td>0.000000</td>\n",
              "    </tr>\n",
              "    <tr>\n",
              "      <th>50%</th>\n",
              "      <td>63.000000</td>\n",
              "      <td>16.100000</td>\n",
              "      <td>5.550000</td>\n",
              "      <td>2.100000</td>\n",
              "      <td>4.800000</td>\n",
              "      <td>44.100000</td>\n",
              "      <td>0.100000</td>\n",
              "      <td>0.300000</td>\n",
              "      <td>22.400000</td>\n",
              "      <td>1.000000</td>\n",
              "      <td>1.500000</td>\n",
              "      <td>71.250000</td>\n",
              "      <td>0.800000</td>\n",
              "      <td>1.700000</td>\n",
              "      <td>2.500000</td>\n",
              "      <td>1.100000</td>\n",
              "      <td>0.500000</td>\n",
              "      <td>0.200000</td>\n",
              "      <td>1.000000</td>\n",
              "      <td>1.000000</td>\n",
              "    </tr>\n",
              "    <tr>\n",
              "      <th>75%</th>\n",
              "      <td>77.000000</td>\n",
              "      <td>22.900000</td>\n",
              "      <td>8.800000</td>\n",
              "      <td>3.400000</td>\n",
              "      <td>7.500000</td>\n",
              "      <td>47.900000</td>\n",
              "      <td>0.400000</td>\n",
              "      <td>1.200000</td>\n",
              "      <td>32.500000</td>\n",
              "      <td>1.600000</td>\n",
              "      <td>2.300000</td>\n",
              "      <td>77.600000</td>\n",
              "      <td>1.400000</td>\n",
              "      <td>2.600000</td>\n",
              "      <td>4.000000</td>\n",
              "      <td>2.000000</td>\n",
              "      <td>0.800000</td>\n",
              "      <td>0.500000</td>\n",
              "      <td>1.500000</td>\n",
              "      <td>1.000000</td>\n",
              "    </tr>\n",
              "    <tr>\n",
              "      <th>max</th>\n",
              "      <td>82.000000</td>\n",
              "      <td>40.900000</td>\n",
              "      <td>28.200000</td>\n",
              "      <td>10.200000</td>\n",
              "      <td>19.800000</td>\n",
              "      <td>73.700000</td>\n",
              "      <td>2.300000</td>\n",
              "      <td>6.500000</td>\n",
              "      <td>100.000000</td>\n",
              "      <td>7.700000</td>\n",
              "      <td>10.200000</td>\n",
              "      <td>100.000000</td>\n",
              "      <td>5.300000</td>\n",
              "      <td>9.600000</td>\n",
              "      <td>13.900000</td>\n",
              "      <td>10.600000</td>\n",
              "      <td>2.500000</td>\n",
              "      <td>3.900000</td>\n",
              "      <td>4.400000</td>\n",
              "      <td>1.000000</td>\n",
              "    </tr>\n",
              "  </tbody>\n",
              "</table>\n",
              "</div>"
            ],
            "text/plain": [
              "                GP          MIN          PTS          FGM          FGA  \\\n",
              "count  1340.000000  1340.000000  1340.000000  1340.000000  1340.000000   \n",
              "mean     60.414179    17.624627     6.801493     2.629104     5.885299   \n",
              "std      17.433992     8.307964     4.357545     1.683555     3.593488   \n",
              "min      11.000000     3.100000     0.700000     0.300000     0.800000   \n",
              "25%      47.000000    10.875000     3.700000     1.400000     3.300000   \n",
              "50%      63.000000    16.100000     5.550000     2.100000     4.800000   \n",
              "75%      77.000000    22.900000     8.800000     3.400000     7.500000   \n",
              "max      82.000000    40.900000    28.200000    10.200000    19.800000   \n",
              "\n",
              "               FG%      3P Made          3PA          3P%          FTM  \\\n",
              "count  1340.000000  1340.000000  1340.000000  1329.000000  1340.000000   \n",
              "mean     44.169403     0.247612     0.779179    19.308126     1.297687   \n",
              "std       6.137679     0.383688     1.061847    16.022916     0.987246   \n",
              "min      23.800000     0.000000     0.000000     0.000000     0.000000   \n",
              "25%      40.200000     0.000000     0.000000     0.000000     0.600000   \n",
              "50%      44.100000     0.100000     0.300000    22.400000     1.000000   \n",
              "75%      47.900000     0.400000     1.200000    32.500000     1.600000   \n",
              "max      73.700000     2.300000     6.500000   100.000000     7.700000   \n",
              "\n",
              "               FTA          FT%         OREB         DREB          REB  \\\n",
              "count  1340.000000  1340.000000  1340.000000  1340.000000  1340.000000   \n",
              "mean      1.821940    70.300299     1.009403     2.025746     3.034478   \n",
              "std       1.322984    10.578479     0.777119     1.360008     2.057774   \n",
              "min       0.000000     0.000000     0.000000     0.200000     0.300000   \n",
              "25%       0.900000    64.700000     0.400000     1.000000     1.500000   \n",
              "50%       1.500000    71.250000     0.800000     1.700000     2.500000   \n",
              "75%       2.300000    77.600000     1.400000     2.600000     4.000000   \n",
              "max      10.200000   100.000000     5.300000     9.600000    13.900000   \n",
              "\n",
              "               AST          STL          BLK          TOV  TARGET_5Yrs  \n",
              "count  1340.000000  1340.000000  1340.000000  1340.000000  1340.000000  \n",
              "mean      1.550522     0.618507     0.368582     1.193582     0.620149  \n",
              "std       1.471169     0.409759     0.429049     0.722541     0.485531  \n",
              "min       0.000000     0.000000     0.000000     0.100000     0.000000  \n",
              "25%       0.600000     0.300000     0.100000     0.700000     0.000000  \n",
              "50%       1.100000     0.500000     0.200000     1.000000     1.000000  \n",
              "75%       2.000000     0.800000     0.500000     1.500000     1.000000  \n",
              "max      10.600000     2.500000     3.900000     4.400000     1.000000  "
            ]
          },
          "execution_count": 4,
          "metadata": {},
          "output_type": "execute_result"
        }
      ],
      "source": [
        "data.describe()"
      ]
    },
    {
      "cell_type": "code",
      "execution_count": null,
      "id": "b7b6b1f0",
      "metadata": {
        "id": "b7b6b1f0",
        "outputId": "e0f4f1bd-e38e-4879-dbe0-d7ec4d1304d3"
      },
      "outputs": [
        {
          "data": {
            "text/plain": [
              "Name            0\n",
              "GP              0\n",
              "MIN             0\n",
              "PTS             0\n",
              "FGM             0\n",
              "FGA             0\n",
              "FG%             0\n",
              "3P Made         0\n",
              "3PA             0\n",
              "3P%            11\n",
              "FTM             0\n",
              "FTA             0\n",
              "FT%             0\n",
              "OREB            0\n",
              "DREB            0\n",
              "REB             0\n",
              "AST             0\n",
              "STL             0\n",
              "BLK             0\n",
              "TOV             0\n",
              "TARGET_5Yrs     0\n",
              "dtype: int64"
            ]
          },
          "execution_count": 5,
          "metadata": {},
          "output_type": "execute_result"
        }
      ],
      "source": [
        "data.isnull().sum()"
      ]
    },
    {
      "cell_type": "code",
      "execution_count": null,
      "id": "39e9cb89",
      "metadata": {
        "id": "39e9cb89",
        "outputId": "bb375cc0-9ed7-400b-8cea-0df5bae48252"
      },
      "outputs": [
        {
          "data": {
            "text/plain": [
              "(1340, 20)"
            ]
          },
          "execution_count": 24,
          "metadata": {},
          "output_type": "execute_result"
        }
      ],
      "source": [
        "data.shape"
      ]
    },
    {
      "cell_type": "code",
      "execution_count": null,
      "id": "2f774482",
      "metadata": {
        "id": "2f774482"
      },
      "outputs": [],
      "source": [
        "data.drop(\"Name\",axis=1,inplace=True)"
      ]
    },
    {
      "cell_type": "code",
      "execution_count": null,
      "id": "d804ac65",
      "metadata": {
        "id": "d804ac65",
        "outputId": "dbf05797-8753-48db-ce1b-050643a9f6d8"
      },
      "outputs": [
        {
          "name": "stdout",
          "output_type": "stream",
          "text": [
            "<class 'pandas.core.frame.DataFrame'>\n",
            "RangeIndex: 1340 entries, 0 to 1339\n",
            "Data columns (total 20 columns):\n",
            " #   Column       Non-Null Count  Dtype  \n",
            "---  ------       --------------  -----  \n",
            " 0   GP           1340 non-null   int64  \n",
            " 1   MIN          1340 non-null   float64\n",
            " 2   PTS          1340 non-null   float64\n",
            " 3   FGM          1340 non-null   float64\n",
            " 4   FGA          1340 non-null   float64\n",
            " 5   FG%          1340 non-null   float64\n",
            " 6   3P Made      1340 non-null   float64\n",
            " 7   3PA          1340 non-null   float64\n",
            " 8   3P%          1340 non-null   float64\n",
            " 9   FTM          1340 non-null   float64\n",
            " 10  FTA          1340 non-null   float64\n",
            " 11  FT%          1340 non-null   float64\n",
            " 12  OREB         1340 non-null   float64\n",
            " 13  DREB         1340 non-null   float64\n",
            " 14  REB          1340 non-null   float64\n",
            " 15  AST          1340 non-null   float64\n",
            " 16  STL          1340 non-null   float64\n",
            " 17  BLK          1340 non-null   float64\n",
            " 18  TOV          1340 non-null   float64\n",
            " 19  TARGET_5Yrs  1340 non-null   float64\n",
            "dtypes: float64(19), int64(1)\n",
            "memory usage: 209.5 KB\n"
          ]
        }
      ],
      "source": [
        "updated_df=data\n",
        "updated_df['3P%']=updated_df['3P%'].fillna(updated_df['3P%'].mean())\n",
        "updated_df.info()"
      ]
    },
    {
      "cell_type": "code",
      "execution_count": null,
      "id": "e81fd037",
      "metadata": {
        "id": "e81fd037",
        "outputId": "c5bddce9-4f38-40a3-b01b-5f265b80792a"
      },
      "outputs": [
        {
          "data": {
            "text/plain": [
              "GP             0\n",
              "MIN            0\n",
              "PTS            0\n",
              "FGM            0\n",
              "FGA            0\n",
              "FG%            0\n",
              "3P Made        0\n",
              "3PA            0\n",
              "3P%            0\n",
              "FTM            0\n",
              "FTA            0\n",
              "FT%            0\n",
              "OREB           0\n",
              "DREB           0\n",
              "REB            0\n",
              "AST            0\n",
              "STL            0\n",
              "BLK            0\n",
              "TOV            0\n",
              "TARGET_5Yrs    0\n",
              "dtype: int64"
            ]
          },
          "execution_count": 8,
          "metadata": {},
          "output_type": "execute_result"
        }
      ],
      "source": [
        "updated_df.isnull().sum()"
      ]
    },
    {
      "cell_type": "code",
      "execution_count": null,
      "id": "ed596a1f",
      "metadata": {
        "id": "ed596a1f"
      },
      "outputs": [],
      "source": [
        "count=updated_df['TARGET_5Yrs']\n",
        "data_distribution=count.value_counts()\n"
      ]
    },
    {
      "cell_type": "code",
      "execution_count": null,
      "id": "a9c35588",
      "metadata": {
        "id": "a9c35588",
        "outputId": "4c84beef-3c0e-429c-9c4c-a04611f54e1d"
      },
      "outputs": [
        {
          "data": {
            "text/plain": [
              "<AxesSubplot:ylabel='TARGET_5Yrs'>"
            ]
          },
          "execution_count": 11,
          "metadata": {},
          "output_type": "execute_result"
        },
        {
          "data": {
            "image/png": "[encoded data removed]",
            "text/plain": [
              "<Figure size 432x288 with 1 Axes>"
            ]
          },
          "metadata": {
            "needs_background": "light"
          },
          "output_type": "display_data"
        }
      ],
      "source": [
        "import seaborn as sns\n",
        "sns.barplot(x=updated_df.TARGET_5Yrs.value_counts().index,\n",
        "            y=updated_df.TARGET_5Yrs.value_counts())"
      ]
    },
    {
      "cell_type": "code",
      "execution_count": null,
      "id": "2f667432",
      "metadata": {
        "id": "2f667432",
        "outputId": "dd4d6df5-73f8-46ab-9bc7-7cbedfce3500"
      },
      "outputs": [
        {
          "data": {
            "text/html": [
              "<div>\n",
              "<style scoped>\n",
              "    .dataframe tbody tr th:only-of-type {\n",
              "        vertical-align: middle;\n",
              "    }\n",
              "\n",
              "    .dataframe tbody tr th {\n",
              "        vertical-align: top;\n",
              "    }\n",
              "\n",
              "    .dataframe thead th {\n",
              "        text-align: right;\n",
              "    }\n",
              "</style>\n",
              "<table border=\"1\" class=\"dataframe\">\n",
              "  <thead>\n",
              "    <tr style=\"text-align: right;\">\n",
              "      <th></th>\n",
              "      <th>GP</th>\n",
              "      <th>MIN</th>\n",
              "      <th>PTS</th>\n",
              "      <th>FGM</th>\n",
              "      <th>FGA</th>\n",
              "      <th>FG%</th>\n",
              "      <th>3P Made</th>\n",
              "      <th>3PA</th>\n",
              "      <th>3P%</th>\n",
              "      <th>FTM</th>\n",
              "      <th>FTA</th>\n",
              "      <th>FT%</th>\n",
              "      <th>OREB</th>\n",
              "      <th>DREB</th>\n",
              "      <th>REB</th>\n",
              "      <th>AST</th>\n",
              "      <th>STL</th>\n",
              "      <th>BLK</th>\n",
              "      <th>TOV</th>\n",
              "    </tr>\n",
              "    <tr>\n",
              "      <th>TARGET_5Yrs</th>\n",
              "      <th></th>\n",
              "      <th></th>\n",
              "      <th></th>\n",
              "      <th></th>\n",
              "      <th></th>\n",
              "      <th></th>\n",
              "      <th></th>\n",
              "      <th></th>\n",
              "      <th></th>\n",
              "      <th></th>\n",
              "      <th></th>\n",
              "      <th></th>\n",
              "      <th></th>\n",
              "      <th></th>\n",
              "      <th></th>\n",
              "      <th></th>\n",
              "      <th></th>\n",
              "      <th></th>\n",
              "      <th></th>\n",
              "    </tr>\n",
              "  </thead>\n",
              "  <tbody>\n",
              "    <tr>\n",
              "      <th>0.0</th>\n",
              "      <td>51.577603</td>\n",
              "      <td>14.252259</td>\n",
              "      <td>5.042829</td>\n",
              "      <td>1.946169</td>\n",
              "      <td>4.542043</td>\n",
              "      <td>42.388802</td>\n",
              "      <td>0.229666</td>\n",
              "      <td>0.754617</td>\n",
              "      <td>19.377306</td>\n",
              "      <td>0.923379</td>\n",
              "      <td>1.321611</td>\n",
              "      <td>68.858546</td>\n",
              "      <td>0.718271</td>\n",
              "      <td>1.531238</td>\n",
              "      <td>2.247544</td>\n",
              "      <td>1.221022</td>\n",
              "      <td>0.498232</td>\n",
              "      <td>0.253438</td>\n",
              "      <td>0.942240</td>\n",
              "    </tr>\n",
              "    <tr>\n",
              "      <th>1.0</th>\n",
              "      <td>65.826715</td>\n",
              "      <td>19.690253</td>\n",
              "      <td>7.878700</td>\n",
              "      <td>3.047413</td>\n",
              "      <td>6.708063</td>\n",
              "      <td>45.260048</td>\n",
              "      <td>0.258604</td>\n",
              "      <td>0.794224</td>\n",
              "      <td>19.265753</td>\n",
              "      <td>1.526955</td>\n",
              "      <td>2.128400</td>\n",
              "      <td>71.183394</td>\n",
              "      <td>1.187726</td>\n",
              "      <td>2.328640</td>\n",
              "      <td>3.516486</td>\n",
              "      <td>1.752347</td>\n",
              "      <td>0.692178</td>\n",
              "      <td>0.439110</td>\n",
              "      <td>1.347533</td>\n",
              "    </tr>\n",
              "  </tbody>\n",
              "</table>\n",
              "</div>"
            ],
            "text/plain": [
              "                    GP        MIN       PTS       FGM       FGA        FG%  \\\n",
              "TARGET_5Yrs                                                                  \n",
              "0.0          51.577603  14.252259  5.042829  1.946169  4.542043  42.388802   \n",
              "1.0          65.826715  19.690253  7.878700  3.047413  6.708063  45.260048   \n",
              "\n",
              "              3P Made       3PA        3P%       FTM       FTA        FT%  \\\n",
              "TARGET_5Yrs                                                                 \n",
              "0.0          0.229666  0.754617  19.377306  0.923379  1.321611  68.858546   \n",
              "1.0          0.258604  0.794224  19.265753  1.526955  2.128400  71.183394   \n",
              "\n",
              "                 OREB      DREB       REB       AST       STL       BLK  \\\n",
              "TARGET_5Yrs                                                               \n",
              "0.0          0.718271  1.531238  2.247544  1.221022  0.498232  0.253438   \n",
              "1.0          1.187726  2.328640  3.516486  1.752347  0.692178  0.439110   \n",
              "\n",
              "                  TOV  \n",
              "TARGET_5Yrs            \n",
              "0.0          0.942240  \n",
              "1.0          1.347533  "
            ]
          },
          "execution_count": 12,
          "metadata": {},
          "output_type": "execute_result"
        }
      ],
      "source": [
        "updated_df.groupby('TARGET_5Yrs').mean()"
      ]
    },
    {
      "cell_type": "code",
      "execution_count": null,
      "id": "723c8989",
      "metadata": {
        "id": "723c8989",
        "outputId": "f9dabaaf-6721-4826-f7c7-5ae26735753a"
      },
      "outputs": [
        {
          "data": {
            "text/plain": [
              "<seaborn.axisgrid.FacetGrid at 0x1f5163db640>"
            ]
          },
          "execution_count": 14,
          "metadata": {},
          "output_type": "execute_result"
        },
        {
          "data": {
            "image/png": "[encoded data removed]",
            "text/plain": [
              "<Figure size 360x360 with 1 Axes>"
            ]
          },
          "metadata": {
            "needs_background": "light"
          },
          "output_type": "display_data"
        }
      ],
      "source": [
        "#games played vs points made\n",
        "sns.relplot(x='GP',y='PTS',data=updated_df)"
      ]
    },
    {
      "cell_type": "code",
      "execution_count": null,
      "id": "af967fa4",
      "metadata": {
        "id": "af967fa4",
        "outputId": "7e6e2437-ba18-4ac3-e5dc-7a9a56291aa1"
      },
      "outputs": [
        {
          "data": {
            "text/plain": [
              "<AxesSubplot:xlabel='PTS'>"
            ]
          },
          "execution_count": 15,
          "metadata": {},
          "output_type": "execute_result"
        },
        {
          "data": {
            "image/png": "[encoded data removed]",
            "text/plain": [
              "<Figure size 432x288 with 1 Axes>"
            ]
          },
          "metadata": {
            "needs_background": "light"
          },
          "output_type": "display_data"
        }
      ],
      "source": [
        "import matplotlib.pyplot as plt\n",
        "sns.boxplot(x=updated_df['PTS'])"
      ]
    },
    {
      "cell_type": "code",
      "execution_count": null,
      "id": "ad697f31",
      "metadata": {
        "id": "ad697f31",
        "outputId": "8806e111-ce10-4c36-bdcc-cea28bc68444"
      },
      "outputs": [
        {
          "data": {
            "text/plain": [
              "<AxesSubplot:xlabel='FGA'>"
            ]
          },
          "execution_count": 16,
          "metadata": {},
          "output_type": "execute_result"
        },
        {
          "data": {
            "image/png": "[encoded data removed]",
            "text/plain": [
              "<Figure size 432x288 with 1 Axes>"
            ]
          },
          "metadata": {
            "needs_background": "light"
          },
          "output_type": "display_data"
        }
      ],
      "source": [
        "import matplotlib.pyplot as plt\n",
        "sns.boxplot(x=updated_df['FGA'])"
      ]
    },
    {
      "cell_type": "code",
      "execution_count": null,
      "id": "b5b8d66b",
      "metadata": {
        "id": "b5b8d66b",
        "outputId": "d075fcb5-81a8-4692-be9d-0a96ea5c11c1"
      },
      "outputs": [
        {
          "data": {
            "text/plain": [
              "<AxesSubplot:xlabel='3PA'>"
            ]
          },
          "execution_count": 17,
          "metadata": {},
          "output_type": "execute_result"
        },
        {
          "data": {
            "image/png": "[encoded data removed]",
            "text/plain": [
              "<Figure size 432x288 with 1 Axes>"
            ]
          },
          "metadata": {
            "needs_background": "light"
          },
          "output_type": "display_data"
        }
      ],
      "source": [
        "import matplotlib.pyplot as plt\n",
        "sns.boxplot(x=updated_df['3PA'])"
      ]
    },
    {
      "cell_type": "code",
      "execution_count": null,
      "id": "9519801c",
      "metadata": {
        "id": "9519801c",
        "outputId": "898aff1b-31f0-4d73-e384-bd33503db32a"
      },
      "outputs": [
        {
          "data": {
            "text/plain": [
              "<AxesSubplot:xlabel='FTM'>"
            ]
          },
          "execution_count": 18,
          "metadata": {},
          "output_type": "execute_result"
        },
        {
          "data": {
            "image/png": "[encoded data removed]",
            "text/plain": [
              "<Figure size 432x288 with 1 Axes>"
            ]
          },
          "metadata": {
            "needs_background": "light"
          },
          "output_type": "display_data"
        }
      ],
      "source": [
        "import matplotlib.pyplot as plt\n",
        "sns.boxplot(x=updated_df['FTM'])"
      ]
    },
    {
      "cell_type": "code",
      "execution_count": null,
      "id": "2cb075db",
      "metadata": {
        "id": "2cb075db",
        "outputId": "17fecdac-3478-43b4-fa33-e476c0611c82"
      },
      "outputs": [
        {
          "data": {
            "text/plain": [
              "<AxesSubplot:xlabel='FTA'>"
            ]
          },
          "execution_count": 19,
          "metadata": {},
          "output_type": "execute_result"
        },
        {
          "data": {
            "image/png": "[encoded data removed]",
            "text/plain": [
              "<Figure size 432x288 with 1 Axes>"
            ]
          },
          "metadata": {
            "needs_background": "light"
          },
          "output_type": "display_data"
        }
      ],
      "source": [
        "import matplotlib.pyplot as plt\n",
        "sns.boxplot(x=updated_df['FTA'])"
      ]
    },
    {
      "cell_type": "code",
      "execution_count": null,
      "id": "99a9cb9b",
      "metadata": {
        "id": "99a9cb9b",
        "outputId": "c0445a06-8b66-41a2-e961-c49cb760ba76"
      },
      "outputs": [
        {
          "data": {
            "text/plain": [
              "<AxesSubplot:xlabel='STL'>"
            ]
          },
          "execution_count": 20,
          "metadata": {},
          "output_type": "execute_result"
        },
        {
          "data": {
            "image/png": "[encoded data removed]",
            "text/plain": [
              "<Figure size 432x288 with 1 Axes>"
            ]
          },
          "metadata": {
            "needs_background": "light"
          },
          "output_type": "display_data"
        }
      ],
      "source": [
        "import matplotlib.pyplot as plt\n",
        "sns.boxplot(x=updated_df['STL'])"
      ]
    },
    {
      "cell_type": "code",
      "execution_count": null,
      "id": "c50d9d0b",
      "metadata": {
        "id": "c50d9d0b",
        "outputId": "a74d9572-28ca-4346-fd84-673bc8589106"
      },
      "outputs": [
        {
          "name": "stdout",
          "output_type": "stream",
          "text": [
            "[[1.40090082 1.17706613 0.13740097 ... 0.07325418 0.14733795 1.27773744]\n",
            " [1.45828144 1.11686044 0.09148643 ... 0.30641476 0.56269458 1.27773744]\n",
            " [0.77956287 0.27991152 0.36765896 ... 0.1599064  0.26801868 1.27773744]\n",
            " ...\n",
            " [0.99923645 0.66522792 0.32174442 ... 0.07325418 0.40647089 1.27773744]\n",
            " [0.48281084 0.67726906 0.52835985 ... 0.62622755 0.5449231  0.7826334 ]\n",
            " [0.76971396 0.71339247 0.55131712 ... 0.62622755 0.40647089 0.7826334 ]]\n"
          ]
        }
      ],
      "source": [
        "from scipy import stats\n",
        "import numpy as np\n",
        "zscore=np.abs(stats.zscore(updated_df)) #zscore=(columnvalue-mean)/standarddeviation\n",
        "print(zscore)"
      ]
    },
    {
      "cell_type": "code",
      "execution_count": null,
      "id": "70181dc6",
      "metadata": {
        "id": "70181dc6",
        "outputId": "441d8c51-ec16-48ad-faae-c6cd602ea8a3"
      },
      "outputs": [
        {
          "name": "stdout",
          "output_type": "stream",
          "text": [
            "(array([  12,   18,   18,   18,   19,   19,   19,   22,   45,   61,   63,\n",
            "         65,   65,   65,   65,   65,   67,   67,   68,   68,   69,   76,\n",
            "        118,  118,  118,  118,  118,  118,  118,  118,  120,  120,  121,\n",
            "        121,  123,  124,  150,  150,  150,  172,  172,  177,  181,  181,\n",
            "        181,  181,  181,  181,  182,  182,  187,  190,  190,  190,  212,\n",
            "        236,  236,  237,  240,  272,  272,  272,  272,  272,  272,  272,\n",
            "        273,  273,  274,  275,  276,  301,  303,  314,  314,  314,  314,\n",
            "        314,  314,  314,  315,  316,  316,  318,  352,  352,  352,  352,\n",
            "        352,  352,  352,  354,  400,  400,  400,  400,  400,  400,  400,\n",
            "        400,  402,  402,  409,  441,  442,  442,  442,  442,  442,  442,\n",
            "        442,  443,  443,  443,  443,  443,  443,  458,  485,  490,  490,\n",
            "        490,  490,  490,  491,  491,  491,  492,  492,  492,  492,  494,\n",
            "        494,  494,  496,  497,  497,  536,  537,  537,  537,  538,  538,\n",
            "        538,  540,  545,  555,  585,  585,  585,  586,  586,  588,  597,\n",
            "        626,  626,  632,  632,  666,  666,  666,  666,  666,  666,  666,\n",
            "        667,  667,  667,  676,  692,  697,  697,  697,  698,  698,  698,\n",
            "        699,  699,  704,  704,  719,  719,  719,  728,  739,  739,  740,\n",
            "        741,  741,  742,  743,  743,  744,  746,  748,  761,  761,  764,\n",
            "        764,  776,  776,  776,  782,  809,  852,  852,  852,  852,  855,\n",
            "        885,  887,  889,  889,  889,  889,  891,  891,  891,  891,  893,\n",
            "        918,  920,  920,  920,  920,  920,  920,  921,  921,  921,  921,\n",
            "        922,  922,  922,  926,  955,  962,  962,  990,  995,  995,  999,\n",
            "       1026, 1028, 1028, 1053, 1055, 1055, 1055, 1055, 1055, 1055, 1056,\n",
            "       1057, 1057, 1057, 1057, 1071, 1081, 1087, 1087, 1087, 1087, 1089,\n",
            "       1090, 1090, 1091, 1092, 1093, 1093, 1093, 1107, 1107, 1109, 1123,\n",
            "       1125, 1125, 1132, 1157, 1157, 1157, 1157, 1157, 1157, 1157, 1157,\n",
            "       1157, 1157, 1158, 1158, 1158, 1159, 1160, 1160, 1161, 1161, 1161,\n",
            "       1162, 1163, 1164, 1164, 1174, 1190, 1190, 1190, 1190, 1192, 1192,\n",
            "       1192, 1192, 1193, 1195, 1199, 1228, 1228, 1228, 1229, 1229, 1229,\n",
            "       1229, 1229, 1229, 1230, 1230, 1230, 1230, 1230, 1230, 1233, 1233,\n",
            "       1235, 1235, 1240, 1253, 1267, 1267, 1267, 1268, 1269, 1269, 1270,\n",
            "       1270, 1272, 1280, 1308, 1308, 1308, 1308, 1308, 1308, 1308, 1308,\n",
            "       1308, 1310, 1310, 1310, 1310, 1311, 1311, 1312, 1312, 1312, 1312,\n",
            "       1312, 1312, 1312, 1327], dtype=int64), array([11, 12, 13, 14, 12, 13, 14, 16,  8, 11, 13,  9, 10, 12, 13, 14,  6,\n",
            "        7, 15, 16, 12, 17,  2,  3,  9, 10, 12, 13, 14, 17, 15, 16, 15, 16,\n",
            "       15, 15, 15, 16, 18,  6,  7,  5,  2,  3,  4,  9, 10, 18,  3, 16,  4,\n",
            "       15, 16, 18, 11, 15, 16, 15, 15,  2,  3,  4,  9, 10, 16, 18,  3, 13,\n",
            "       17, 13, 15,  5, 11,  2,  3,  9, 10, 13, 17, 18, 12, 13, 18, 17,  2,\n",
            "        3,  4,  9, 10, 16, 18, 17,  2,  3,  4, 12, 13, 14, 17, 18, 15, 18,\n",
            "       17, 11,  2,  3,  4, 10, 12, 13, 14,  2,  3,  4, 12, 13, 14, 17, 11,\n",
            "        2,  3,  9, 10, 18, 12, 13, 14, 10, 15, 16, 18,  2,  3,  4, 17, 13,\n",
            "       14, 14,  2,  3,  4, 12, 13, 14, 15, 17, 17,  6,  7, 15,  6,  7, 17,\n",
            "       11,  6,  7,  6,  7,  2,  3,  4,  9, 10, 13, 14,  9, 15, 18,  6,  5,\n",
            "        2,  9, 10,  6,  7, 16,  6,  7,  6,  7, 13, 14, 17,  5,  6,  7, 15,\n",
            "        6,  7,  9,  6, 16, 17,  6, 12,  5, 11,  6,  7,  2,  4,  9,  7, 11,\n",
            "        9, 10, 15, 16,  6,  5, 11, 12, 13, 14, 17, 12, 13, 14, 17, 17, 11,\n",
            "        2,  3,  4,  9, 10, 18,  2,  4,  9, 10,  6,  7, 15, 15, 10,  6,  7,\n",
            "       11, 15, 18, 17, 17,  6,  7,  8,  2,  3,  9, 10, 12, 14, 18,  6,  7,\n",
            "       15, 18,  6, 17,  6,  7, 15, 16, 15,  6,  7, 15,  6, 12, 13, 14,  6,\n",
            "        7,  5,  4, 15, 16,  7,  2,  3,  4,  6,  7,  9, 10, 15, 16, 18,  6,\n",
            "        7, 16, 12,  9, 10,  6,  7, 15,  6, 17,  6,  7,  8,  6,  7, 15, 18,\n",
            "        7,  9, 10, 18, 12, 15,  6,  2,  9, 10,  2,  3,  4,  9, 10, 18,  2,\n",
            "        3,  4,  9, 10, 18, 15, 16,  6, 16,  6,  8, 15, 16, 18,  4,  6,  7,\n",
            "       12, 17, 12, 12,  2,  3,  9, 10, 12, 13, 14, 17, 18,  9, 10, 13, 18,\n",
            "       13, 14,  2,  9, 10, 12, 13, 14, 17, 17], dtype=int64))\n"
          ]
        }
      ],
      "source": [
        "threshold=3\n",
        "print(np.where(zscore>3))"
      ]
    },
    {
      "cell_type": "code",
      "execution_count": null,
      "id": "32e43fcb",
      "metadata": {
        "id": "32e43fcb"
      },
      "outputs": [],
      "source": [
        "#retain the rows with z score less than 3\n",
        "clean_df=updated_df\n",
        "clean_df=clean_df[(zscore<3).all(axis=1)]"
      ]
    },
    {
      "cell_type": "code",
      "execution_count": null,
      "id": "00a49f55",
      "metadata": {
        "id": "00a49f55",
        "outputId": "961e5578-f7eb-4873-f080-ee6456fd728f"
      },
      "outputs": [
        {
          "data": {
            "text/plain": [
              "(1182, 20)"
            ]
          },
          "execution_count": 25,
          "metadata": {},
          "output_type": "execute_result"
        }
      ],
      "source": [
        "clean_df.shape"
      ]
    },
    {
      "cell_type": "code",
      "execution_count": null,
      "id": "c18d7a35",
      "metadata": {
        "id": "c18d7a35"
      },
      "outputs": [],
      "source": [
        "x=clean_df.iloc[:,0:19] #x=independent variables\n",
        "y=clean_df.iloc[:,-1]#y=one dependent varaible (0 or 1)"
      ]
    },
    {
      "cell_type": "code",
      "execution_count": null,
      "id": "919f636f",
      "metadata": {
        "id": "919f636f"
      },
      "outputs": [],
      "source": [
        "#minmax sacaler preprocessing\n",
        "from sklearn.preprocessing import MinMaxScaler\n",
        "features=x.columns.values\n",
        "scaler=MinMaxScaler(feature_range=(0,1))\n",
        "scaler.fit(x)\n",
        "X=pd.DataFrame(scaler.transform(x))\n",
        "X.columns=features"
      ]
    },
    {
      "cell_type": "code",
      "execution_count": null,
      "id": "80eaf167",
      "metadata": {
        "id": "80eaf167"
      },
      "outputs": [],
      "source": [
        "from sklearn.model_selection import train_test_split\n",
        "X_train,X_test,y_train,y_test=train_test_split(X,y,train_size=.90,random_state=1)"
      ]
    },
    {
      "cell_type": "code",
      "execution_count": null,
      "id": "4ff1c64c",
      "metadata": {
        "id": "4ff1c64c"
      },
      "outputs": [],
      "source": [
        "from sklearn.linear_model import LogisticRegression\n",
        "model=LogisticRegression(solver='liblinear',random_state=0)"
      ]
    },
    {
      "cell_type": "code",
      "execution_count": null,
      "id": "49593328",
      "metadata": {
        "id": "49593328"
      },
      "outputs": [],
      "source": [
        "from sklearn.metrics import classification_report,confusion_matrix"
      ]
    },
    {
      "cell_type": "code",
      "execution_count": null,
      "id": "ba8783b0",
      "metadata": {
        "id": "ba8783b0"
      },
      "outputs": [],
      "source": [
        "#logistic regression with liblinear model(determine value for the weights\n",
        "#) is bes tsuited for binary classifcation, logistic regression is 1/1+e^-x, w0x0+w1x1.........+w18x18"
      ]
    },
    {
      "cell_type": "code",
      "execution_count": null,
      "id": "cc4c6027",
      "metadata": {
        "id": "cc4c6027",
        "outputId": "83d7b0a8-564c-471c-8621-7eeaca93c0ed"
      },
      "outputs": [
        {
          "data": {
            "text/plain": [
              "LogisticRegression(random_state=0, solver='liblinear')"
            ]
          },
          "execution_count": 33,
          "metadata": {},
          "output_type": "execute_result"
        }
      ],
      "source": [
        "model.fit(X_train,y_train)"
      ]
    },
    {
      "cell_type": "code",
      "execution_count": null,
      "id": "c499f8a6",
      "metadata": {
        "id": "c499f8a6",
        "outputId": "2a2b43a1-60d9-456c-ed5b-5b63b4b6c422"
      },
      "outputs": [
        {
          "data": {
            "text/plain": [
              "array([[0.16127073, 0.83872927],\n",
              "       [0.39742411, 0.60257589],\n",
              "       [0.50578834, 0.49421166],\n",
              "       [0.15005341, 0.84994659],\n",
              "       [0.68539752, 0.31460248],\n",
              "       [0.62272267, 0.37727733],\n",
              "       [0.51924454, 0.48075546],\n",
              "       [0.58516198, 0.41483802],\n",
              "       [0.79616521, 0.20383479],\n",
              "       [0.56264157, 0.43735843],\n",
              "       [0.35844054, 0.64155946],\n",
              "       [0.48015855, 0.51984145],\n",
              "       [0.25724766, 0.74275234],\n",
              "       [0.13605346, 0.86394654],\n",
              "       [0.48510954, 0.51489046],\n",
              "       [0.1539875 , 0.8460125 ],\n",
              "       [0.48820035, 0.51179965],\n",
              "       [0.50603489, 0.49396511],\n",
              "       [0.25817806, 0.74182194],\n",
              "       [0.39533045, 0.60466955],\n",
              "       [0.16302395, 0.83697605],\n",
              "       [0.43228607, 0.56771393],\n",
              "       [0.28487704, 0.71512296],\n",
              "       [0.37934966, 0.62065034],\n",
              "       [0.1218326 , 0.8781674 ],\n",
              "       [0.48295066, 0.51704934],\n",
              "       [0.22084778, 0.77915222],\n",
              "       [0.24711204, 0.75288796],\n",
              "       [0.12690978, 0.87309022],\n",
              "       [0.45745295, 0.54254705],\n",
              "       [0.45859644, 0.54140356],\n",
              "       [0.13604594, 0.86395406],\n",
              "       [0.53512751, 0.46487249],\n",
              "       [0.20670981, 0.79329019],\n",
              "       [0.60445781, 0.39554219],\n",
              "       [0.37900475, 0.62099525],\n",
              "       [0.04649587, 0.95350413],\n",
              "       [0.43973531, 0.56026469],\n",
              "       [0.62603532, 0.37396468],\n",
              "       [0.38990198, 0.61009802],\n",
              "       [0.60116724, 0.39883276],\n",
              "       [0.54654524, 0.45345476],\n",
              "       [0.63068378, 0.36931622],\n",
              "       [0.57723456, 0.42276544],\n",
              "       [0.63537779, 0.36462221],\n",
              "       [0.58422586, 0.41577414],\n",
              "       [0.5084699 , 0.4915301 ],\n",
              "       [0.58799157, 0.41200843],\n",
              "       [0.6000914 , 0.3999086 ],\n",
              "       [0.69973437, 0.30026563],\n",
              "       [0.54244667, 0.45755333],\n",
              "       [0.46354714, 0.53645286],\n",
              "       [0.0732821 , 0.9267179 ],\n",
              "       [0.6721691 , 0.3278309 ],\n",
              "       [0.43195229, 0.56804771],\n",
              "       [0.3874068 , 0.6125932 ],\n",
              "       [0.28144391, 0.71855609],\n",
              "       [0.21675195, 0.78324805],\n",
              "       [0.37206736, 0.62793264],\n",
              "       [0.55977401, 0.44022599],\n",
              "       [0.45855402, 0.54144598],\n",
              "       [0.44630763, 0.55369237],\n",
              "       [0.44738456, 0.55261544],\n",
              "       [0.53277761, 0.46722239],\n",
              "       [0.47968752, 0.52031248],\n",
              "       [0.09247547, 0.90752453],\n",
              "       [0.28342295, 0.71657705],\n",
              "       [0.19889185, 0.80110815],\n",
              "       [0.3562391 , 0.6437609 ],\n",
              "       [0.42900123, 0.57099877],\n",
              "       [0.60903727, 0.39096273],\n",
              "       [0.34060496, 0.65939504],\n",
              "       [0.43388752, 0.56611248],\n",
              "       [0.3951349 , 0.6048651 ],\n",
              "       [0.17671447, 0.82328553],\n",
              "       [0.63051173, 0.36948827],\n",
              "       [0.40820069, 0.59179931],\n",
              "       [0.58241673, 0.41758327],\n",
              "       [0.26997062, 0.73002938],\n",
              "       [0.65997469, 0.34002531],\n",
              "       [0.34223492, 0.65776508],\n",
              "       [0.32257332, 0.67742668],\n",
              "       [0.38347635, 0.61652365],\n",
              "       [0.54644823, 0.45355177],\n",
              "       [0.45429199, 0.54570801],\n",
              "       [0.59130141, 0.40869859],\n",
              "       [0.32576272, 0.67423728],\n",
              "       [0.27633094, 0.72366906],\n",
              "       [0.4351395 , 0.5648605 ],\n",
              "       [0.20946386, 0.79053614],\n",
              "       [0.5523964 , 0.4476036 ],\n",
              "       [0.52672888, 0.47327112],\n",
              "       [0.56571782, 0.43428218],\n",
              "       [0.47429786, 0.52570214],\n",
              "       [0.16049174, 0.83950826],\n",
              "       [0.42093037, 0.57906963],\n",
              "       [0.18063269, 0.81936731],\n",
              "       [0.41177791, 0.58822209],\n",
              "       [0.53679677, 0.46320323],\n",
              "       [0.38258327, 0.61741673],\n",
              "       [0.20319861, 0.79680139],\n",
              "       [0.07729601, 0.92270399],\n",
              "       [0.30939315, 0.69060685],\n",
              "       [0.43424128, 0.56575872],\n",
              "       [0.45785954, 0.54214046],\n",
              "       [0.53363232, 0.46636768],\n",
              "       [0.31339291, 0.68660709],\n",
              "       [0.2387115 , 0.7612885 ],\n",
              "       [0.26103243, 0.73896757],\n",
              "       [0.15529587, 0.84470413],\n",
              "       [0.33698639, 0.66301361],\n",
              "       [0.35972104, 0.64027896],\n",
              "       [0.41733592, 0.58266408],\n",
              "       [0.15632394, 0.84367606],\n",
              "       [0.25817806, 0.74182194],\n",
              "       [0.12082699, 0.87917301],\n",
              "       [0.24420256, 0.75579744],\n",
              "       [0.26439778, 0.73560222],\n",
              "       [0.36846154, 0.63153846]])"
            ]
          },
          "execution_count": 34,
          "metadata": {},
          "output_type": "execute_result"
        }
      ],
      "source": [
        "model.predict_proba(X_test)"
      ]
    },
    {
      "cell_type": "code",
      "execution_count": null,
      "id": "29efd44d",
      "metadata": {
        "id": "29efd44d",
        "outputId": "21393831-6c11-4748-d02c-a5685ae9d94e"
      },
      "outputs": [
        {
          "data": {
            "text/plain": [
              "0.680672268907563"
            ]
          },
          "execution_count": 35,
          "metadata": {},
          "output_type": "execute_result"
        }
      ],
      "source": [
        "model.score(X_test,y_test)"
      ]
    },
    {
      "cell_type": "code",
      "execution_count": null,
      "id": "9b1c770c",
      "metadata": {
        "id": "9b1c770c"
      },
      "outputs": [],
      "source": [
        "predicted=model.predict(X_test)"
      ]
    },
    {
      "cell_type": "code",
      "execution_count": null,
      "id": "3cd3d8a2",
      "metadata": {
        "id": "3cd3d8a2",
        "outputId": "5d8cc35a-8441-4bb6-86fb-76f797b77917"
      },
      "outputs": [
        {
          "data": {
            "text/plain": [
              "array([1., 1., 0., 1., 0., 0., 0., 0., 0., 0., 1., 1., 1., 1., 1., 1., 1.,\n",
              "       0., 1., 1., 1., 1., 1., 1., 1., 1., 1., 1., 1., 1., 1., 1., 0., 1.,\n",
              "       0., 1., 1., 1., 0., 1., 0., 0., 0., 0., 0., 0., 0., 0., 0., 0., 0.,\n",
              "       1., 1., 0., 1., 1., 1., 1., 1., 0., 1., 1., 1., 0., 1., 1., 1., 1.,\n",
              "       1., 1., 0., 1., 1., 1., 1., 0., 1., 0., 1., 0., 1., 1., 1., 0., 1.,\n",
              "       0., 1., 1., 1., 1., 0., 0., 0., 1., 1., 1., 1., 1., 0., 1., 1., 1.,\n",
              "       1., 1., 1., 0., 1., 1., 1., 1., 1., 1., 1., 1., 1., 1., 1., 1., 1.])"
            ]
          },
          "execution_count": 37,
          "metadata": {},
          "output_type": "execute_result"
        }
      ],
      "source": [
        "predicted #model give value"
      ]
    },
    {
      "cell_type": "code",
      "execution_count": null,
      "id": "37fef5cd",
      "metadata": {
        "id": "37fef5cd",
        "outputId": "77338770-6c0c-4809-b4d3-7a8888ef2a1e"
      },
      "outputs": [
        {
          "data": {
            "text/plain": [
              "1029    1.0\n",
              "337     0.0\n",
              "1036    0.0\n",
              "364     1.0\n",
              "267     0.0\n",
              "       ... \n",
              "971     1.0\n",
              "539     1.0\n",
              "942     1.0\n",
              "23      0.0\n",
              "389     0.0\n",
              "Name: TARGET_5Yrs, Length: 119, dtype: float64"
            ]
          },
          "execution_count": 38,
          "metadata": {},
          "output_type": "execute_result"
        }
      ],
      "source": [
        "y_test #from csv file original values"
      ]
    },
    {
      "cell_type": "code",
      "execution_count": null,
      "id": "c5203755",
      "metadata": {
        "id": "c5203755",
        "outputId": "7843293f-c60c-4acc-9a39-7c2c99290e09"
      },
      "outputs": [
        {
          "data": {
            "text/plain": [
              "array([[ 2.32202945, -0.8623308 ,  0.52800429,  0.47354178,  0.16936706,\n",
              "         0.23643498,  0.45565904, -0.92620168,  0.23956835,  0.56080372,\n",
              "        -0.11478255,  0.6456203 ,  1.42405766, -0.33364435,  0.37091174,\n",
              "         0.70492543,  0.11243225,  0.5979834 , -0.4248919 ]])"
            ]
          },
          "execution_count": 39,
          "metadata": {},
          "output_type": "execute_result"
        }
      ],
      "source": [
        "model.coef_  #model.coef indicated the value of m in y=mx+C  (19 m1,...m19)"
      ]
    },
    {
      "cell_type": "code",
      "execution_count": null,
      "id": "d9763285",
      "metadata": {
        "id": "d9763285",
        "outputId": "99e35d1e-99a8-4d50-dc2c-c5f40b4fac78"
      },
      "outputs": [
        {
          "data": {
            "text/plain": [
              "array([-2.27796973])"
            ]
          },
          "execution_count": 41,
          "metadata": {},
          "output_type": "execute_result"
        }
      ],
      "source": [
        "model.intercept_  #y=mx+c this is c"
      ]
    },
    {
      "cell_type": "code",
      "execution_count": null,
      "id": "76f836f4",
      "metadata": {
        "id": "76f836f4",
        "outputId": "48f9f533-4fac-47c3-a5d0-cab762ba4989"
      },
      "outputs": [
        {
          "data": {
            "text/plain": [
              "Text(0, 0.5, 'predicted y')"
            ]
          },
          "execution_count": 42,
          "metadata": {},
          "output_type": "execute_result"
        },
        {
          "data": {
            "image/png": "[encoded data removed]",
            "text/plain": [
              "<Figure size 432x288 with 1 Axes>"
            ]
          },
          "metadata": {
            "needs_background": "light"
          },
          "output_type": "display_data"
        }
      ],
      "source": [
        "plt.scatter(x=y_test,y=predicted)\n",
        "plt.xlabel('y test')\n",
        "plt.ylabel('predicted y')"
      ]
    },
    {
      "cell_type": "code",
      "execution_count": null,
      "id": "efb659a4",
      "metadata": {
        "id": "efb659a4",
        "outputId": "1c9e4b92-7635-4524-c37e-57455df6e089"
      },
      "outputs": [
        {
          "name": "stdout",
          "output_type": "stream",
          "text": [
            "Fitting 10 folds for each of 30 candidates, totalling 300 fits\n",
            "LogisticRegression(class_weight='balanced', max_iter=20, random_state=1234,\n",
            "                   solver='liblinear')\n"
          ]
        }
      ],
      "source": [
        "#gridsearch is hyperparameter tuningtoget more accurracy\n",
        "param_grid_lr={'max_iter':[20,50,100,200,500,1000],\n",
        "               'solver':['newton-cg','lbfgs','liblinear','sag','saga'],\n",
        "               'class_weight':['balanced']\n",
        "              }\n",
        "from sklearn.model_selection import GridSearchCV\n",
        "from sklearn.linear_model import LogisticRegression\n",
        "logmodel=GridSearchCV(estimator=LogisticRegression(random_state=1234),\n",
        "             param_grid=param_grid_lr,\n",
        "             verbose=1,\n",
        "             cv=10,\n",
        "             n_jobs=-1)\n",
        "logmodel.fit(X_train,y_train)\n",
        "print(logmodel.best_estimator_)"
      ]
    },
    {
      "cell_type": "code",
      "execution_count": null,
      "id": "b38ec302",
      "metadata": {
        "id": "b38ec302",
        "outputId": "79e6f1bd-812b-44f4-deb2-48b2ac8970f4"
      },
      "outputs": [
        {
          "name": "stdout",
          "output_type": "stream",
          "text": [
            "[1. 1. 0. 1. 0. 0. 0. 0. 0. 0. 1. 0. 1. 1. 0. 1. 0. 0. 1. 1. 1. 0. 1. 1.\n",
            " 1. 0. 1. 1. 1. 0. 0. 1. 0. 1. 0. 1. 1. 0. 0. 1. 0. 0. 0. 0. 0. 0. 0. 0.\n",
            " 0. 0. 0. 0. 1. 0. 0. 1. 1. 1. 1. 0. 0. 0. 0. 0. 0. 1. 1. 1. 1. 0. 0. 1.\n",
            " 0. 1. 1. 0. 1. 0. 1. 0. 1. 1. 1. 0. 0. 0. 1. 1. 0. 1. 0. 0. 0. 0. 1. 0.\n",
            " 1. 0. 0. 1. 1. 1. 1. 0. 0. 0. 1. 1. 1. 1. 1. 1. 0. 1. 1. 1. 1. 1. 1.]\n"
          ]
        }
      ],
      "source": [
        "y_pred=logmodel.predict(X_test)\n",
        "print(y_pred)"
      ]
    },
    {
      "cell_type": "code",
      "execution_count": null,
      "id": "98de2b96",
      "metadata": {
        "id": "98de2b96",
        "outputId": "f4c9ae2e-38c6-4a15-f5b4-4eb6e3a78ba8"
      },
      "outputs": [
        {
          "name": "stdout",
          "output_type": "stream",
          "text": [
            "[[35 17]\n",
            " [25 42]]\n"
          ]
        }
      ],
      "source": [
        "from sklearn.metrics import confusion_matrix\n",
        "print(confusion_matrix(y_test,y_pred))"
      ]
    },
    {
      "cell_type": "code",
      "execution_count": null,
      "id": "beea5f60",
      "metadata": {
        "id": "beea5f60",
        "outputId": "3dc75215-38f2-496a-e44a-4244bd7c672d"
      },
      "outputs": [
        {
          "name": "stdout",
          "output_type": "stream",
          "text": [
            "0.6470588235294118\n"
          ]
        }
      ],
      "source": [
        "from sklearn.metrics import accuracy_score\n",
        "print(accuracy_score(y_test,y_pred))"
      ]
    },
    {
      "cell_type": "code",
      "execution_count": null,
      "id": "8d4270ef",
      "metadata": {
        "id": "8d4270ef",
        "outputId": "9af263ac-fa2a-40f4-c696-93646a0a8697"
      },
      "outputs": [
        {
          "name": "stdout",
          "output_type": "stream",
          "text": [
            "0.711864406779661\n"
          ]
        }
      ],
      "source": [
        "from sklearn.metrics import precision_score\n",
        "print(precision_score(y_test,y_pred))"
      ]
    },
    {
      "cell_type": "code",
      "execution_count": null,
      "id": "6701fdf7",
      "metadata": {
        "id": "6701fdf7",
        "outputId": "5ac7e730-16cc-4c4c-9335-aa3e49f582ae"
      },
      "outputs": [
        {
          "name": "stdout",
          "output_type": "stream",
          "text": [
            "0.6268656716417911\n"
          ]
        }
      ],
      "source": [
        "from sklearn.metrics import recall_score\n",
        "print(recall_score(y_test,y_pred))"
      ]
    },
    {
      "cell_type": "code",
      "execution_count": null,
      "id": "b8518932",
      "metadata": {
        "id": "b8518932",
        "outputId": "a3258eb5-4083-4291-81bb-ca6a54de3283"
      },
      "outputs": [
        {
          "name": "stdout",
          "output_type": "stream",
          "text": [
            "0.6666666666666667\n"
          ]
        }
      ],
      "source": [
        "from sklearn.metrics import f1_score\n",
        "print(f1_score(y_test,y_pred))"
      ]
    },
    {
      "cell_type": "code",
      "execution_count": null,
      "id": "df1ef5e4",
      "metadata": {
        "id": "df1ef5e4"
      },
      "outputs": [],
      "source": []
    }
  ],
  "metadata": {
    "kernelspec": {
      "display_name": "Python 3",
      "language": "python",
      "name": "python3"
    },
    "language_info": {
      "codemirror_mode": {
        "name": "ipython",
        "version": 3
      },
      "file_extension": ".py",
      "mimetype": "text/x-python",
      "name": "python",
      "nbconvert_exporter": "python",
      "pygments_lexer": "ipython3",
      "version": "3.8.8"
    },
    "colab": {
      "provenance": []
    }
  },
  "nbformat": 4,
  "nbformat_minor": 5
}