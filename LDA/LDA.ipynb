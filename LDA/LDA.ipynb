{
  "cells": [
    {
      "cell_type": "code",
      "execution_count": null,
      "id": "906b726f",
      "metadata": {
        "id": "906b726f"
      },
      "outputs": [],
      "source": [
        "#Linear discriminant analysis (LDA) can be used for both classification and for dimensionality reduction\n",
        "#LDA model for the biochemist dataset -whether biochemist is married or not\n",
        "\n",
        "#art-the number of articles has published\n",
        "#fem-gender\n",
        "#mar-married or not (Y)-dependent attribute\n",
        "#kid5- whehter he has kids\n",
        "#phd-a numerical metricfor phd\n",
        "#ment=numerical metric for PhD mentor\n"
      ]
    },
    {
      "cell_type": "code",
      "execution_count": null,
      "id": "fd3ed2f9",
      "metadata": {
        "id": "fd3ed2f9",
        "outputId": "f5b7c728-fd87-4cc5-e7e7-79eb3c7bac32"
      },
      "outputs": [
        {
          "name": "stdout",
          "output_type": "stream",
          "text": [
            "Requirement already satisfied: pydataset in c:\\users\\admin\\anaconda3\\lib\\site-packages (0.2.0)\n",
            "Requirement already satisfied: pandas in c:\\users\\admin\\anaconda3\\lib\\site-packages (from pydataset) (1.2.4)\n",
            "Requirement already satisfied: pytz>=2017.3 in c:\\users\\admin\\anaconda3\\lib\\site-packages (from pandas->pydataset) (2021.1)\n",
            "Requirement already satisfied: numpy>=1.16.5 in c:\\users\\admin\\anaconda3\\lib\\site-packages (from pandas->pydataset) (1.20.1)\n",
            "Requirement already satisfied: python-dateutil>=2.7.3 in c:\\users\\admin\\anaconda3\\lib\\site-packages (from pandas->pydataset) (2.8.1)\n",
            "Requirement already satisfied: six>=1.5 in c:\\users\\admin\\anaconda3\\lib\\site-packages (from python-dateutil>=2.7.3->pandas->pydataset) (1.15.0)\n"
          ]
        }
      ],
      "source": [
        "import pandas as pd\n",
        "!pip install pydataset\n",
        "from pydataset import data\n",
        "import matplotlib.pyplot as plt\n",
        "#\n",
        "from sklearn.model_selection import train_test_split\n",
        "from sklearn.metrics import classification_report\n",
        "from sklearn import metrics"
      ]
    },
    {
      "cell_type": "code",
      "execution_count": null,
      "id": "779c2e0c",
      "metadata": {
        "id": "779c2e0c",
        "outputId": "50058ade-f0af-4561-d4fd-d4050b67545a"
      },
      "outputs": [
        {
          "data": {
            "text/html": [
              "<div>\n",
              "<style scoped>\n",
              "    .dataframe tbody tr th:only-of-type {\n",
              "        vertical-align: middle;\n",
              "    }\n",
              "\n",
              "    .dataframe tbody tr th {\n",
              "        vertical-align: top;\n",
              "    }\n",
              "\n",
              "    .dataframe thead th {\n",
              "        text-align: right;\n",
              "    }\n",
              "</style>\n",
              "<table border=\"1\" class=\"dataframe\">\n",
              "  <thead>\n",
              "    <tr style=\"text-align: right;\">\n",
              "      <th></th>\n",
              "      <th>art</th>\n",
              "      <th>fem</th>\n",
              "      <th>mar</th>\n",
              "      <th>kid5</th>\n",
              "      <th>phd</th>\n",
              "      <th>ment</th>\n",
              "    </tr>\n",
              "  </thead>\n",
              "  <tbody>\n",
              "    <tr>\n",
              "      <th>1</th>\n",
              "      <td>0</td>\n",
              "      <td>Men</td>\n",
              "      <td>Married</td>\n",
              "      <td>0</td>\n",
              "      <td>2.52</td>\n",
              "      <td>7</td>\n",
              "    </tr>\n",
              "    <tr>\n",
              "      <th>2</th>\n",
              "      <td>0</td>\n",
              "      <td>Women</td>\n",
              "      <td>Single</td>\n",
              "      <td>0</td>\n",
              "      <td>2.05</td>\n",
              "      <td>6</td>\n",
              "    </tr>\n",
              "    <tr>\n",
              "      <th>3</th>\n",
              "      <td>0</td>\n",
              "      <td>Women</td>\n",
              "      <td>Single</td>\n",
              "      <td>0</td>\n",
              "      <td>3.75</td>\n",
              "      <td>6</td>\n",
              "    </tr>\n",
              "    <tr>\n",
              "      <th>4</th>\n",
              "      <td>0</td>\n",
              "      <td>Men</td>\n",
              "      <td>Married</td>\n",
              "      <td>1</td>\n",
              "      <td>1.18</td>\n",
              "      <td>3</td>\n",
              "    </tr>\n",
              "    <tr>\n",
              "      <th>5</th>\n",
              "      <td>0</td>\n",
              "      <td>Women</td>\n",
              "      <td>Single</td>\n",
              "      <td>0</td>\n",
              "      <td>3.75</td>\n",
              "      <td>26</td>\n",
              "    </tr>\n",
              "    <tr>\n",
              "      <th>...</th>\n",
              "      <td>...</td>\n",
              "      <td>...</td>\n",
              "      <td>...</td>\n",
              "      <td>...</td>\n",
              "      <td>...</td>\n",
              "      <td>...</td>\n",
              "    </tr>\n",
              "    <tr>\n",
              "      <th>911</th>\n",
              "      <td>11</td>\n",
              "      <td>Men</td>\n",
              "      <td>Married</td>\n",
              "      <td>2</td>\n",
              "      <td>2.86</td>\n",
              "      <td>7</td>\n",
              "    </tr>\n",
              "    <tr>\n",
              "      <th>912</th>\n",
              "      <td>12</td>\n",
              "      <td>Men</td>\n",
              "      <td>Married</td>\n",
              "      <td>1</td>\n",
              "      <td>4.29</td>\n",
              "      <td>35</td>\n",
              "    </tr>\n",
              "    <tr>\n",
              "      <th>913</th>\n",
              "      <td>12</td>\n",
              "      <td>Men</td>\n",
              "      <td>Married</td>\n",
              "      <td>1</td>\n",
              "      <td>1.86</td>\n",
              "      <td>5</td>\n",
              "    </tr>\n",
              "    <tr>\n",
              "      <th>914</th>\n",
              "      <td>16</td>\n",
              "      <td>Men</td>\n",
              "      <td>Married</td>\n",
              "      <td>0</td>\n",
              "      <td>1.74</td>\n",
              "      <td>21</td>\n",
              "    </tr>\n",
              "    <tr>\n",
              "      <th>915</th>\n",
              "      <td>19</td>\n",
              "      <td>Men</td>\n",
              "      <td>Married</td>\n",
              "      <td>0</td>\n",
              "      <td>1.86</td>\n",
              "      <td>42</td>\n",
              "    </tr>\n",
              "  </tbody>\n",
              "</table>\n",
              "<p>915 rows × 6 columns</p>\n",
              "</div>"
            ],
            "text/plain": [
              "     art    fem      mar  kid5   phd  ment\n",
              "1      0    Men  Married     0  2.52     7\n",
              "2      0  Women   Single     0  2.05     6\n",
              "3      0  Women   Single     0  3.75     6\n",
              "4      0    Men  Married     1  1.18     3\n",
              "5      0  Women   Single     0  3.75    26\n",
              "..   ...    ...      ...   ...   ...   ...\n",
              "911   11    Men  Married     2  2.86     7\n",
              "912   12    Men  Married     1  4.29    35\n",
              "913   12    Men  Married     1  1.86     5\n",
              "914   16    Men  Married     0  1.74    21\n",
              "915   19    Men  Married     0  1.86    42\n",
              "\n",
              "[915 rows x 6 columns]"
            ]
          },
          "execution_count": 4,
          "metadata": {},
          "output_type": "execute_result"
        }
      ],
      "source": [
        "df=data('bioChemists')\n",
        "df"
      ]
    },
    {
      "cell_type": "code",
      "execution_count": null,
      "id": "9a93f911",
      "metadata": {
        "id": "9a93f911",
        "outputId": "bf8b41b5-204c-4327-e1b7-6c91b580043c"
      },
      "outputs": [
        {
          "data": {
            "text/plain": [
              "art       int64\n",
              "fem      object\n",
              "mar      object\n",
              "kid5      int64\n",
              "phd     float64\n",
              "ment      int64\n",
              "dtype: object"
            ]
          },
          "execution_count": 5,
          "metadata": {},
          "output_type": "execute_result"
        }
      ],
      "source": [
        "df.dtypes"
      ]
    },
    {
      "cell_type": "code",
      "execution_count": null,
      "id": "8d4d2216",
      "metadata": {
        "id": "8d4d2216"
      },
      "outputs": [],
      "source": [
        "#convert objects to integers in the data frame\n",
        "#convert the fem column(object) to integer using dummy variables\n",
        "#convert the mar column (object) to integer using dummy variables"
      ]
    },
    {
      "cell_type": "code",
      "execution_count": null,
      "id": "1666ba9d",
      "metadata": {
        "id": "1666ba9d",
        "outputId": "0689b03b-2272-4ff5-c19f-3a181de56333"
      },
      "outputs": [
        {
          "data": {
            "text/html": [
              "<div>\n",
              "<style scoped>\n",
              "    .dataframe tbody tr th:only-of-type {\n",
              "        vertical-align: middle;\n",
              "    }\n",
              "\n",
              "    .dataframe tbody tr th {\n",
              "        vertical-align: top;\n",
              "    }\n",
              "\n",
              "    .dataframe thead th {\n",
              "        text-align: right;\n",
              "    }\n",
              "</style>\n",
              "<table border=\"1\" class=\"dataframe\">\n",
              "  <thead>\n",
              "    <tr style=\"text-align: right;\">\n",
              "      <th></th>\n",
              "      <th>art</th>\n",
              "      <th>fem</th>\n",
              "      <th>mar</th>\n",
              "      <th>kid5</th>\n",
              "      <th>phd</th>\n",
              "      <th>ment</th>\n",
              "      <th>Men</th>\n",
              "      <th>Women</th>\n",
              "      <th>Married</th>\n",
              "      <th>Single</th>\n",
              "    </tr>\n",
              "  </thead>\n",
              "  <tbody>\n",
              "    <tr>\n",
              "      <th>1</th>\n",
              "      <td>0</td>\n",
              "      <td>Men</td>\n",
              "      <td>Married</td>\n",
              "      <td>0</td>\n",
              "      <td>2.52</td>\n",
              "      <td>7</td>\n",
              "      <td>1</td>\n",
              "      <td>0</td>\n",
              "      <td>1</td>\n",
              "      <td>0</td>\n",
              "    </tr>\n",
              "    <tr>\n",
              "      <th>2</th>\n",
              "      <td>0</td>\n",
              "      <td>Women</td>\n",
              "      <td>Single</td>\n",
              "      <td>0</td>\n",
              "      <td>2.05</td>\n",
              "      <td>6</td>\n",
              "      <td>0</td>\n",
              "      <td>1</td>\n",
              "      <td>0</td>\n",
              "      <td>1</td>\n",
              "    </tr>\n",
              "    <tr>\n",
              "      <th>3</th>\n",
              "      <td>0</td>\n",
              "      <td>Women</td>\n",
              "      <td>Single</td>\n",
              "      <td>0</td>\n",
              "      <td>3.75</td>\n",
              "      <td>6</td>\n",
              "      <td>0</td>\n",
              "      <td>1</td>\n",
              "      <td>0</td>\n",
              "      <td>1</td>\n",
              "    </tr>\n",
              "    <tr>\n",
              "      <th>4</th>\n",
              "      <td>0</td>\n",
              "      <td>Men</td>\n",
              "      <td>Married</td>\n",
              "      <td>1</td>\n",
              "      <td>1.18</td>\n",
              "      <td>3</td>\n",
              "      <td>1</td>\n",
              "      <td>0</td>\n",
              "      <td>1</td>\n",
              "      <td>0</td>\n",
              "    </tr>\n",
              "    <tr>\n",
              "      <th>5</th>\n",
              "      <td>0</td>\n",
              "      <td>Women</td>\n",
              "      <td>Single</td>\n",
              "      <td>0</td>\n",
              "      <td>3.75</td>\n",
              "      <td>26</td>\n",
              "      <td>0</td>\n",
              "      <td>1</td>\n",
              "      <td>0</td>\n",
              "      <td>1</td>\n",
              "    </tr>\n",
              "  </tbody>\n",
              "</table>\n",
              "</div>"
            ],
            "text/plain": [
              "   art    fem      mar  kid5   phd  ment  Men  Women  Married  Single\n",
              "1    0    Men  Married     0  2.52     7    1      0        1       0\n",
              "2    0  Women   Single     0  2.05     6    0      1        0       1\n",
              "3    0  Women   Single     0  3.75     6    0      1        0       1\n",
              "4    0    Men  Married     1  1.18     3    1      0        1       0\n",
              "5    0  Women   Single     0  3.75    26    0      1        0       1"
            ]
          },
          "execution_count": 6,
          "metadata": {},
          "output_type": "execute_result"
        }
      ],
      "source": [
        "dummy=pd.get_dummies(df['fem'])\n",
        "df=pd.concat([df,dummy],axis=1)\n",
        "dummy=pd.get_dummies(df['mar'])\n",
        "df=pd.concat([df,dummy],axis=1)\n",
        "df.head()"
      ]
    },
    {
      "cell_type": "code",
      "execution_count": null,
      "id": "b736e6d6",
      "metadata": {
        "id": "b736e6d6",
        "outputId": "4a6d9a57-9abf-4c06-de26-fe2eac4a23cd"
      },
      "outputs": [
        {
          "data": {
            "text/html": [
              "<div>\n",
              "<style scoped>\n",
              "    .dataframe tbody tr th:only-of-type {\n",
              "        vertical-align: middle;\n",
              "    }\n",
              "\n",
              "    .dataframe tbody tr th {\n",
              "        vertical-align: top;\n",
              "    }\n",
              "\n",
              "    .dataframe thead th {\n",
              "        text-align: right;\n",
              "    }\n",
              "</style>\n",
              "<table border=\"1\" class=\"dataframe\">\n",
              "  <thead>\n",
              "    <tr style=\"text-align: right;\">\n",
              "      <th></th>\n",
              "      <th>art</th>\n",
              "      <th>kid5</th>\n",
              "      <th>phd</th>\n",
              "      <th>ment</th>\n",
              "      <th>Men</th>\n",
              "      <th>Women</th>\n",
              "      <th>Married</th>\n",
              "      <th>Single</th>\n",
              "    </tr>\n",
              "  </thead>\n",
              "  <tbody>\n",
              "    <tr>\n",
              "      <th>1</th>\n",
              "      <td>0</td>\n",
              "      <td>0</td>\n",
              "      <td>2.52</td>\n",
              "      <td>7</td>\n",
              "      <td>1</td>\n",
              "      <td>0</td>\n",
              "      <td>1</td>\n",
              "      <td>0</td>\n",
              "    </tr>\n",
              "    <tr>\n",
              "      <th>2</th>\n",
              "      <td>0</td>\n",
              "      <td>0</td>\n",
              "      <td>2.05</td>\n",
              "      <td>6</td>\n",
              "      <td>0</td>\n",
              "      <td>1</td>\n",
              "      <td>0</td>\n",
              "      <td>1</td>\n",
              "    </tr>\n",
              "    <tr>\n",
              "      <th>3</th>\n",
              "      <td>0</td>\n",
              "      <td>0</td>\n",
              "      <td>3.75</td>\n",
              "      <td>6</td>\n",
              "      <td>0</td>\n",
              "      <td>1</td>\n",
              "      <td>0</td>\n",
              "      <td>1</td>\n",
              "    </tr>\n",
              "    <tr>\n",
              "      <th>4</th>\n",
              "      <td>0</td>\n",
              "      <td>1</td>\n",
              "      <td>1.18</td>\n",
              "      <td>3</td>\n",
              "      <td>1</td>\n",
              "      <td>0</td>\n",
              "      <td>1</td>\n",
              "      <td>0</td>\n",
              "    </tr>\n",
              "    <tr>\n",
              "      <th>5</th>\n",
              "      <td>0</td>\n",
              "      <td>0</td>\n",
              "      <td>3.75</td>\n",
              "      <td>26</td>\n",
              "      <td>0</td>\n",
              "      <td>1</td>\n",
              "      <td>0</td>\n",
              "      <td>1</td>\n",
              "    </tr>\n",
              "  </tbody>\n",
              "</table>\n",
              "</div>"
            ],
            "text/plain": [
              "   art  kid5   phd  ment  Men  Women  Married  Single\n",
              "1    0     0  2.52     7    1      0        1       0\n",
              "2    0     0  2.05     6    0      1        0       1\n",
              "3    0     0  3.75     6    0      1        0       1\n",
              "4    0     1  1.18     3    1      0        1       0\n",
              "5    0     0  3.75    26    0      1        0       1"
            ]
          },
          "execution_count": 7,
          "metadata": {},
          "output_type": "execute_result"
        }
      ],
      "source": [
        "#drop the columns fem and mar\n",
        "df1=df.drop(['fem','mar'],axis=1)\n",
        "df1.head()"
      ]
    },
    {
      "cell_type": "code",
      "execution_count": null,
      "id": "777cf732",
      "metadata": {
        "id": "777cf732"
      },
      "outputs": [],
      "source": [
        "X=df1[['Men','art','phd','kid5','ment']]\n",
        "y=df1['Married']"
      ]
    },
    {
      "cell_type": "code",
      "execution_count": null,
      "id": "c6e20243",
      "metadata": {
        "id": "c6e20243"
      },
      "outputs": [],
      "source": [
        "X_train,X_test,y_train,y_test=train_test_split(X,y,test_size=0.3,random_state=0)\n",
        "# what does random state mean here-rep"
      ]
    },
    {
      "cell_type": "code",
      "execution_count": null,
      "id": "aa079e30",
      "metadata": {
        "id": "aa079e30",
        "outputId": "db649c25-9b5a-4f1d-dfc8-d94aec9ab6ff"
      },
      "outputs": [
        {
          "data": {
            "text/plain": [
              "0.728125"
            ]
          },
          "execution_count": 11,
          "metadata": {},
          "output_type": "execute_result"
        }
      ],
      "source": [
        "clf=LDA()\n",
        "clf.fit(X_train,y_train)\n",
        "clf.score(X_train,y_train)"
      ]
    },
    {
      "cell_type": "code",
      "execution_count": null,
      "id": "2df8e714",
      "metadata": {
        "id": "2df8e714"
      },
      "outputs": [],
      "source": [
        "y_pred=clf.predict(X_test)  #the actual value is y_test, the model value is y_pred"
      ]
    },
    {
      "cell_type": "code",
      "execution_count": null,
      "id": "bc815702",
      "metadata": {
        "id": "bc815702",
        "outputId": "19991719-9c11-4ff8-d131-b49153263459"
      },
      "outputs": [
        {
          "data": {
            "text/plain": [
              "array([0, 1, 0, 1, 1, 1, 0, 1, 0, 0, 0, 1, 1, 0, 1, 0, 1, 1, 0, 1, 0, 1,\n",
              "       0, 0, 0, 1, 1, 0, 1, 0, 1, 0, 0, 1, 1, 1, 1, 1, 1, 0, 1, 0, 0, 0,\n",
              "       1, 0, 1, 1, 1, 1, 0, 0, 1, 1, 0, 0, 0, 1, 1, 1, 0, 1, 1, 0, 0, 1,\n",
              "       1, 0, 0, 1, 1, 0, 1, 1, 0, 0, 0, 1, 1, 1, 1, 1, 1, 0, 1, 1, 1, 1,\n",
              "       1, 1, 1, 1, 1, 0, 1, 1, 1, 1, 1, 0, 1, 1, 1, 1, 1, 0, 1, 0, 1, 1,\n",
              "       1, 1, 0, 1, 1, 0, 1, 1, 0, 1, 0, 1, 0, 1, 1, 0, 1, 0, 1, 1, 1, 1,\n",
              "       0, 1, 1, 0, 1, 0, 1, 0, 1, 1, 0, 1, 1, 1, 1, 1, 0, 1, 1, 1, 1, 1,\n",
              "       1, 1, 1, 1, 1, 0, 0, 1, 1, 1, 1, 0, 1, 1, 1, 1, 1, 1, 0, 0, 1, 1,\n",
              "       1, 1, 1, 1, 1, 0, 1, 0, 1, 0, 1, 1, 1, 0, 1, 1, 1, 1, 0, 0, 0, 0,\n",
              "       0, 1, 1, 1, 1, 1, 1, 1, 1, 1, 0, 1, 1, 1, 0, 1, 1, 0, 0, 0, 1, 0,\n",
              "       1, 0, 1, 1, 1, 0, 1, 0, 1, 1, 1, 0, 1, 0, 0, 0, 1, 0, 0, 1, 1, 1,\n",
              "       1, 0, 1, 1, 1, 1, 0, 1, 1, 0, 1, 1, 1, 1, 1, 0, 1, 0, 1, 1, 1, 0,\n",
              "       1, 0, 1, 1, 1, 1, 0, 1, 1, 1, 1], dtype=uint8)"
            ]
          },
          "execution_count": 13,
          "metadata": {},
          "output_type": "execute_result"
        }
      ],
      "source": [
        "y_pred"
      ]
    },
    {
      "cell_type": "code",
      "execution_count": null,
      "id": "05dd6d0c",
      "metadata": {
        "id": "05dd6d0c",
        "outputId": "707ab5a9-a41d-496a-8a4e-d2e1b80dd1f3"
      },
      "outputs": [
        {
          "name": "stdout",
          "output_type": "stream",
          "text": [
            "              precision    recall  f1-score   support\n",
            "\n",
            "           0       0.55      0.56      0.56        89\n",
            "           1       0.79      0.78      0.78       186\n",
            "\n",
            "    accuracy                           0.71       275\n",
            "   macro avg       0.67      0.67      0.67       275\n",
            "weighted avg       0.71      0.71      0.71       275\n",
            "\n"
          ]
        }
      ],
      "source": [
        "print(classification_report(y_test,y_pred))"
      ]
    },
    {
      "cell_type": "code",
      "execution_count": null,
      "id": "e4cc5e0d",
      "metadata": {
        "id": "e4cc5e0d"
      },
      "outputs": [],
      "source": [
        "#binary classification ,whether male phd scholar is married or not\n",
        "\n",
        "Precision=TP/TP+FP\n",
        "Recall(Sensitivity)=(True postive)/(True postive+False Negative)\n",
        "(Specificity)=True negative/True negative+False positive\n",
        "Accurracy=(TP+TN)/(TP+FP+TN+FN)\n",
        "\n",
        "F1-score=2*(Precison*Recall)/(Precison + recall)\n",
        "#support -the number of obervations for each class (married or not)\n",
        "#macro average?\n",
        "#weighted average?\n",
        "\n"
      ]
    },
    {
      "cell_type": "code",
      "execution_count": null,
      "id": "54d5600e",
      "metadata": {
        "id": "54d5600e",
        "outputId": "e1dfec36-1d0a-4229-c660-20105a0fe404"
      },
      "outputs": [
        {
          "data": {
            "image/png": "[encoded data removed]",
            "text/plain": [
              "<Figure size 432x288 with 2 Axes>"
            ]
          },
          "metadata": {
            "needs_background": "light"
          },
          "output_type": "display_data"
        }
      ],
      "source": [
        "from sklearn.metrics import confusion_matrix\n",
        "from sklearn.metrics import plot_confusion_matrix\n",
        "plot_confusion_matrix(clf,X_test,y_test,cmap=plt.cm.Blues)\n",
        "plt.show()"
      ]
    },
    {
      "cell_type": "code",
      "execution_count": null,
      "id": "e042f282",
      "metadata": {
        "id": "e042f282",
        "outputId": "686f54c2-0699-4f13-9453-559020555dd8"
      },
      "outputs": [
        {
          "data": {
            "text/plain": [
              "<matplotlib.legend.Legend at 0x180ce3de0a0>"
            ]
          },
          "execution_count": 16,
          "metadata": {},
          "output_type": "execute_result"
        },
        {
          "data": {
            "image/png": "[encoded data removed]",
            "text/plain": [
              "<Figure size 432x288 with 1 Axes>"
            ]
          },
          "metadata": {
            "needs_background": "light"
          },
          "output_type": "display_data"
        }
      ],
      "source": [
        "#TP=50\n",
        "#FP=39\n",
        "#TN=41\n",
        "#FN=145\n",
        "#roc curve -reciever operator characteristicc urve\n",
        "fpr,tpr,thresholds=metrics.roc_curve(y_test,y_pred)\n",
        "roc_auc=metrics.auc(fpr,tpr)\n",
        "roc_auc\n",
        "plt.clf()\n",
        "plt.plot(fpr,tpr,label=\"Roc curve =roc_curve\")\n",
        "plt.plot([0,1],[0,1],'k--') #look in net\n",
        "plt.legend(loc=\"lower right\")\n",
        "\n"
      ]
    },
    {
      "cell_type": "code",
      "execution_count": null,
      "id": "cdc3aea5",
      "metadata": {
        "id": "cdc3aea5"
      },
      "outputs": [],
      "source": []
    }
  ],
  "metadata": {
    "kernelspec": {
      "display_name": "Python 3",
      "language": "python",
      "name": "python3"
    },
    "language_info": {
      "codemirror_mode": {
        "name": "ipython",
        "version": 3
      },
      "file_extension": ".py",
      "mimetype": "text/x-python",
      "name": "python",
      "nbconvert_exporter": "python",
      "pygments_lexer": "ipython3",
      "version": "3.8.8"
    },
    "colab": {
      "provenance": []
    }
  },
  "nbformat": 4,
  "nbformat_minor": 5
}